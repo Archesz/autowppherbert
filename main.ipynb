{
 "cells": [
  {
   "cell_type": "code",
   "execution_count": 15,
   "metadata": {},
   "outputs": [
    {
     "ename": "TimeoutException",
     "evalue": "Message: \nStacktrace:\n\tGetHandleVerifier [0x00007FF695BB4C82+3505170]\n\t(No symbol) [0x00007FF6957E0852]\n\t(No symbol) [0x00007FF695694145]\n\t(No symbol) [0x00007FF6956D9ADD]\n\t(No symbol) [0x00007FF6956D9C1C]\n\t(No symbol) [0x00007FF69571AB27]\n\t(No symbol) [0x00007FF6956FBECF]\n\t(No symbol) [0x00007FF6957183B2]\n\t(No symbol) [0x00007FF6956FBC33]\n\t(No symbol) [0x00007FF6956CD618]\n\t(No symbol) [0x00007FF6956CE6B1]\n\tGetHandleVerifier [0x00007FF695BE67DD+3708781]\n\tGetHandleVerifier [0x00007FF695C3FC5D+4074477]\n\tGetHandleVerifier [0x00007FF695C37DDF+4042095]\n\tGetHandleVerifier [0x00007FF69590A136+708806]\n\t(No symbol) [0x00007FF6957ECB0F]\n\t(No symbol) [0x00007FF6957E7D14]\n\t(No symbol) [0x00007FF6957E7E6C]\n\t(No symbol) [0x00007FF6957D79A4]\n\tBaseThreadInitThunk [0x00007FF908B77344+20]\n\tRtlUserThreadStart [0x00007FF90A3226B1+33]\n",
     "output_type": "error",
     "traceback": [
      "\u001b[1;31m---------------------------------------------------------------------------\u001b[0m",
      "\u001b[1;31mTimeoutException\u001b[0m                          Traceback (most recent call last)",
      "Cell \u001b[1;32mIn[15], line 13\u001b[0m\n\u001b[0;32m     10\u001b[0m navegador \u001b[38;5;241m=\u001b[39m webdriver\u001b[38;5;241m.\u001b[39mChrome()\n\u001b[0;32m     11\u001b[0m navegador\u001b[38;5;241m.\u001b[39mget(\u001b[38;5;124m\"\u001b[39m\u001b[38;5;124mhttps://web.whatsapp.com/send?phone=numero&text=texto\u001b[39m\u001b[38;5;124m\"\u001b[39m)\n\u001b[1;32m---> 13\u001b[0m \u001b[43mWebDriverWait\u001b[49m\u001b[43m(\u001b[49m\u001b[43mnavegador\u001b[49m\u001b[43m,\u001b[49m\u001b[43m \u001b[49m\u001b[38;5;241;43m50\u001b[39;49m\u001b[43m)\u001b[49m\u001b[38;5;241;43m.\u001b[39;49m\u001b[43muntil\u001b[49m\u001b[43m(\u001b[49m\u001b[43mEC\u001b[49m\u001b[38;5;241;43m.\u001b[39;49m\u001b[43mpresence_of_element_located\u001b[49m\u001b[43m(\u001b[49m\u001b[43m(\u001b[49m\u001b[43mBy\u001b[49m\u001b[38;5;241;43m.\u001b[39;49m\u001b[43mID\u001b[49m\u001b[43m,\u001b[49m\u001b[43m \u001b[49m\u001b[38;5;124;43m\"\u001b[39;49m\u001b[38;5;124;43mside\u001b[39;49m\u001b[38;5;124;43m\"\u001b[39;49m\u001b[43m)\u001b[49m\u001b[43m)\u001b[49m\u001b[43m)\u001b[49m\n\u001b[0;32m     15\u001b[0m time\u001b[38;5;241m.\u001b[39msleep(\u001b[38;5;241m2\u001b[39m)\n",
      "File \u001b[1;32mc:\\Users\\Usuário\\AppData\\Local\\Programs\\Python\\Python311\\Lib\\site-packages\\selenium\\webdriver\\support\\wait.py:105\u001b[0m, in \u001b[0;36mWebDriverWait.until\u001b[1;34m(self, method, message)\u001b[0m\n\u001b[0;32m    103\u001b[0m     \u001b[38;5;28;01mif\u001b[39;00m time\u001b[38;5;241m.\u001b[39mmonotonic() \u001b[38;5;241m>\u001b[39m end_time:\n\u001b[0;32m    104\u001b[0m         \u001b[38;5;28;01mbreak\u001b[39;00m\n\u001b[1;32m--> 105\u001b[0m \u001b[38;5;28;01mraise\u001b[39;00m TimeoutException(message, screen, stacktrace)\n",
      "\u001b[1;31mTimeoutException\u001b[0m: Message: \nStacktrace:\n\tGetHandleVerifier [0x00007FF695BB4C82+3505170]\n\t(No symbol) [0x00007FF6957E0852]\n\t(No symbol) [0x00007FF695694145]\n\t(No symbol) [0x00007FF6956D9ADD]\n\t(No symbol) [0x00007FF6956D9C1C]\n\t(No symbol) [0x00007FF69571AB27]\n\t(No symbol) [0x00007FF6956FBECF]\n\t(No symbol) [0x00007FF6957183B2]\n\t(No symbol) [0x00007FF6956FBC33]\n\t(No symbol) [0x00007FF6956CD618]\n\t(No symbol) [0x00007FF6956CE6B1]\n\tGetHandleVerifier [0x00007FF695BE67DD+3708781]\n\tGetHandleVerifier [0x00007FF695C3FC5D+4074477]\n\tGetHandleVerifier [0x00007FF695C37DDF+4042095]\n\tGetHandleVerifier [0x00007FF69590A136+708806]\n\t(No symbol) [0x00007FF6957ECB0F]\n\t(No symbol) [0x00007FF6957E7D14]\n\t(No symbol) [0x00007FF6957E7E6C]\n\t(No symbol) [0x00007FF6957D79A4]\n\tBaseThreadInitThunk [0x00007FF908B77344+20]\n\tRtlUserThreadStart [0x00007FF90A3226B1+33]\n"
     ]
    }
   ],
   "source": [
    "from selenium import webdriver\n",
    "from selenium.webdriver.common.keys import Keys\n",
    "from selenium.webdriver.support.ui import WebDriverWait\n",
    "from selenium.webdriver.support import expected_conditions as EC\n",
    "\n",
    "from selenium.webdriver.common.by import By\n",
    "import time\n",
    "import pandas as pd\n",
    "\n",
    "navegador = webdriver.Chrome()\n",
    "navegador.get(\"https://web.whatsapp.com/send?phone=numero&text=texto\")\n",
    "\n",
    "WebDriverWait(navegador, 50).until(EC.presence_of_element_located((By.ID, \"side\")))\n",
    "\n",
    "time.sleep(2)"
   ]
  },
  {
   "cell_type": "code",
   "execution_count": null,
   "metadata": {},
   "outputs": [
    {
     "data": {
      "text/html": [
       "<div>\n",
       "<style scoped>\n",
       "    .dataframe tbody tr th:only-of-type {\n",
       "        vertical-align: middle;\n",
       "    }\n",
       "\n",
       "    .dataframe tbody tr th {\n",
       "        vertical-align: top;\n",
       "    }\n",
       "\n",
       "    .dataframe thead th {\n",
       "        text-align: right;\n",
       "    }\n",
       "</style>\n",
       "<table border=\"1\" class=\"dataframe\">\n",
       "  <thead>\n",
       "    <tr style=\"text-align: right;\">\n",
       "      <th></th>\n",
       "      <th>Nome</th>\n",
       "      <th>Telefone</th>\n",
       "    </tr>\n",
       "  </thead>\n",
       "  <tbody>\n",
       "    <tr>\n",
       "      <th>0</th>\n",
       "      <td>Beatriz</td>\n",
       "      <td>554391589098</td>\n",
       "    </tr>\n",
       "    <tr>\n",
       "      <th>1</th>\n",
       "      <td>Blizzard</td>\n",
       "      <td>5514998293851</td>\n",
       "    </tr>\n",
       "    <tr>\n",
       "      <th>2</th>\n",
       "      <td>Enrico</td>\n",
       "      <td>5514981777904</td>\n",
       "    </tr>\n",
       "  </tbody>\n",
       "</table>\n",
       "</div>"
      ],
      "text/plain": [
       "       Nome       Telefone\n",
       "0   Beatriz   554391589098\n",
       "1  Blizzard  5514998293851\n",
       "2    Enrico  5514981777904"
      ]
     },
     "execution_count": 5,
     "metadata": {},
     "output_type": "execute_result"
    }
   ],
   "source": [
    "df = pd.read_csv(\"alunos.csv\", sep=\";\").drop(columns=[\"Unnamed: 0\"])\n",
    "df.head()"
   ]
  },
  {
   "cell_type": "code",
   "execution_count": null,
   "metadata": {},
   "outputs": [
    {
     "ename": "NoSuchWindowException",
     "evalue": "Message: no such window: target window already closed\nfrom unknown error: web view not found\n  (Session info: chrome=122.0.6261.70)\nStacktrace:\n\tGetHandleVerifier [0x00007FF695BB4C82+3505170]\n\t(No symbol) [0x00007FF6957E0852]\n\t(No symbol) [0x00007FF695694145]\n\t(No symbol) [0x00007FF695671D4C]\n\t(No symbol) [0x00007FF6957025F7]\n\t(No symbol) [0x00007FF695717A61]\n\t(No symbol) [0x00007FF6956FBC33]\n\t(No symbol) [0x00007FF6956CD618]\n\t(No symbol) [0x00007FF6956CE6B1]\n\tGetHandleVerifier [0x00007FF695BE67DD+3708781]\n\tGetHandleVerifier [0x00007FF695C3FC5D+4074477]\n\tGetHandleVerifier [0x00007FF695C37DDF+4042095]\n\tGetHandleVerifier [0x00007FF69590A136+708806]\n\t(No symbol) [0x00007FF6957ECB0F]\n\t(No symbol) [0x00007FF6957E7D14]\n\t(No symbol) [0x00007FF6957E7E6C]\n\t(No symbol) [0x00007FF6957D79A4]\n\tBaseThreadInitThunk [0x00007FF908B77344+20]\n\tRtlUserThreadStart [0x00007FF90A3226B1+33]\n",
     "output_type": "error",
     "traceback": [
      "\u001b[1;31m---------------------------------------------------------------------------\u001b[0m",
      "\u001b[1;31mNoSuchWindowException\u001b[0m                     Traceback (most recent call last)",
      "Cell \u001b[1;32mIn[12], line 10\u001b[0m\n\u001b[0;32m      6\u001b[0m telefone \u001b[38;5;241m=\u001b[39m df\u001b[38;5;241m.\u001b[39mloc[linha, \u001b[38;5;124m\"\u001b[39m\u001b[38;5;124mTelefone\u001b[39m\u001b[38;5;124m\"\u001b[39m]\n\u001b[0;32m      8\u001b[0m link \u001b[38;5;241m=\u001b[39m \u001b[38;5;124m\"\u001b[39m\u001b[38;5;124mhttps://web.whatsapp.com/send?phone=\u001b[39m\u001b[38;5;132;01m{telefone}\u001b[39;00m\u001b[38;5;124m&text=\u001b[39m\u001b[38;5;132;01m{mensagem}\u001b[39;00m\u001b[38;5;124m\"\u001b[39m\n\u001b[1;32m---> 10\u001b[0m \u001b[43mnavegador\u001b[49m\u001b[38;5;241;43m.\u001b[39;49m\u001b[43mget\u001b[49m\u001b[43m(\u001b[49m\u001b[43mlink\u001b[49m\u001b[43m)\u001b[49m\n\u001b[0;32m     11\u001b[0m \u001b[38;5;28;01mwhile\u001b[39;00m \u001b[38;5;28mlen\u001b[39m(navegador\u001b[38;5;241m.\u001b[39mfind_element(By\u001b[38;5;241m.\u001b[39mID, \u001b[38;5;124m\"\u001b[39m\u001b[38;5;124mside\u001b[39m\u001b[38;5;124m\"\u001b[39m)) \u001b[38;5;241m<\u001b[39m \u001b[38;5;241m1\u001b[39m:\n\u001b[0;32m     12\u001b[0m     time\u001b[38;5;241m.\u001b[39msleep(\u001b[38;5;241m1\u001b[39m)\n",
      "File \u001b[1;32mc:\\Users\\Usuário\\AppData\\Local\\Programs\\Python\\Python311\\Lib\\site-packages\\selenium\\webdriver\\remote\\webdriver.py:356\u001b[0m, in \u001b[0;36mWebDriver.get\u001b[1;34m(self, url)\u001b[0m\n\u001b[0;32m    354\u001b[0m \u001b[38;5;28;01mdef\u001b[39;00m \u001b[38;5;21mget\u001b[39m(\u001b[38;5;28mself\u001b[39m, url: \u001b[38;5;28mstr\u001b[39m) \u001b[38;5;241m-\u001b[39m\u001b[38;5;241m>\u001b[39m \u001b[38;5;28;01mNone\u001b[39;00m:\n\u001b[0;32m    355\u001b[0m \u001b[38;5;250m    \u001b[39m\u001b[38;5;124;03m\"\"\"Loads a web page in the current browser session.\"\"\"\u001b[39;00m\n\u001b[1;32m--> 356\u001b[0m     \u001b[38;5;28;43mself\u001b[39;49m\u001b[38;5;241;43m.\u001b[39;49m\u001b[43mexecute\u001b[49m\u001b[43m(\u001b[49m\u001b[43mCommand\u001b[49m\u001b[38;5;241;43m.\u001b[39;49m\u001b[43mGET\u001b[49m\u001b[43m,\u001b[49m\u001b[43m \u001b[49m\u001b[43m{\u001b[49m\u001b[38;5;124;43m\"\u001b[39;49m\u001b[38;5;124;43murl\u001b[39;49m\u001b[38;5;124;43m\"\u001b[39;49m\u001b[43m:\u001b[49m\u001b[43m \u001b[49m\u001b[43murl\u001b[49m\u001b[43m}\u001b[49m\u001b[43m)\u001b[49m\n",
      "File \u001b[1;32mc:\\Users\\Usuário\\AppData\\Local\\Programs\\Python\\Python311\\Lib\\site-packages\\selenium\\webdriver\\remote\\webdriver.py:347\u001b[0m, in \u001b[0;36mWebDriver.execute\u001b[1;34m(self, driver_command, params)\u001b[0m\n\u001b[0;32m    345\u001b[0m response \u001b[38;5;241m=\u001b[39m \u001b[38;5;28mself\u001b[39m\u001b[38;5;241m.\u001b[39mcommand_executor\u001b[38;5;241m.\u001b[39mexecute(driver_command, params)\n\u001b[0;32m    346\u001b[0m \u001b[38;5;28;01mif\u001b[39;00m response:\n\u001b[1;32m--> 347\u001b[0m     \u001b[38;5;28;43mself\u001b[39;49m\u001b[38;5;241;43m.\u001b[39;49m\u001b[43merror_handler\u001b[49m\u001b[38;5;241;43m.\u001b[39;49m\u001b[43mcheck_response\u001b[49m\u001b[43m(\u001b[49m\u001b[43mresponse\u001b[49m\u001b[43m)\u001b[49m\n\u001b[0;32m    348\u001b[0m     response[\u001b[38;5;124m\"\u001b[39m\u001b[38;5;124mvalue\u001b[39m\u001b[38;5;124m\"\u001b[39m] \u001b[38;5;241m=\u001b[39m \u001b[38;5;28mself\u001b[39m\u001b[38;5;241m.\u001b[39m_unwrap_value(response\u001b[38;5;241m.\u001b[39mget(\u001b[38;5;124m\"\u001b[39m\u001b[38;5;124mvalue\u001b[39m\u001b[38;5;124m\"\u001b[39m, \u001b[38;5;28;01mNone\u001b[39;00m))\n\u001b[0;32m    349\u001b[0m     \u001b[38;5;28;01mreturn\u001b[39;00m response\n",
      "File \u001b[1;32mc:\\Users\\Usuário\\AppData\\Local\\Programs\\Python\\Python311\\Lib\\site-packages\\selenium\\webdriver\\remote\\errorhandler.py:229\u001b[0m, in \u001b[0;36mErrorHandler.check_response\u001b[1;34m(self, response)\u001b[0m\n\u001b[0;32m    227\u001b[0m         alert_text \u001b[38;5;241m=\u001b[39m value[\u001b[38;5;124m\"\u001b[39m\u001b[38;5;124malert\u001b[39m\u001b[38;5;124m\"\u001b[39m]\u001b[38;5;241m.\u001b[39mget(\u001b[38;5;124m\"\u001b[39m\u001b[38;5;124mtext\u001b[39m\u001b[38;5;124m\"\u001b[39m)\n\u001b[0;32m    228\u001b[0m     \u001b[38;5;28;01mraise\u001b[39;00m exception_class(message, screen, stacktrace, alert_text)  \u001b[38;5;66;03m# type: ignore[call-arg]  # mypy is not smart enough here\u001b[39;00m\n\u001b[1;32m--> 229\u001b[0m \u001b[38;5;28;01mraise\u001b[39;00m exception_class(message, screen, stacktrace)\n",
      "\u001b[1;31mNoSuchWindowException\u001b[0m: Message: no such window: target window already closed\nfrom unknown error: web view not found\n  (Session info: chrome=122.0.6261.70)\nStacktrace:\n\tGetHandleVerifier [0x00007FF695BB4C82+3505170]\n\t(No symbol) [0x00007FF6957E0852]\n\t(No symbol) [0x00007FF695694145]\n\t(No symbol) [0x00007FF695671D4C]\n\t(No symbol) [0x00007FF6957025F7]\n\t(No symbol) [0x00007FF695717A61]\n\t(No symbol) [0x00007FF6956FBC33]\n\t(No symbol) [0x00007FF6956CD618]\n\t(No symbol) [0x00007FF6956CE6B1]\n\tGetHandleVerifier [0x00007FF695BE67DD+3708781]\n\tGetHandleVerifier [0x00007FF695C3FC5D+4074477]\n\tGetHandleVerifier [0x00007FF695C37DDF+4042095]\n\tGetHandleVerifier [0x00007FF69590A136+708806]\n\t(No symbol) [0x00007FF6957ECB0F]\n\t(No symbol) [0x00007FF6957E7D14]\n\t(No symbol) [0x00007FF6957E7E6C]\n\t(No symbol) [0x00007FF6957D79A4]\n\tBaseThreadInitThunk [0x00007FF908B77344+20]\n\tRtlUserThreadStart [0x00007FF90A3226B1+33]\n"
     ]
    }
   ],
   "source": [
    "import time\n",
    "\n",
    "for linha in df.index:\n",
    "    nome = df.loc[linha, \"Nome\"]\n",
    "    mensagem = f\"Bom dia {nome}! Isso é um teste do BOT Luna para envio de mensagens, desconsidere :)\"\n",
    "    telefone = df.loc[linha, \"Telefone\"]\n",
    "\n",
    "    link = \"https://web.whatsapp.com/send?phone={telefone}&text={mensagem}\"\n",
    "\n",
    "    navegador.get(link)\n",
    "    while len(navegador.find_element(By.ID, \"side\")) < 1:\n",
    "        time.sleep(1)\n",
    "\n",
    "    time.sleep(2)\n",
    "\n",
    "    navegador.find_element(By.XPATH, '//*[@id=\"main\"]/footer/div[1]/div/span[2]/div/div[2]/div[2]/button/span').click()\n",
    "    time.sleep(2)\n"
   ]
  },
  {
   "cell_type": "code",
   "execution_count": null,
   "metadata": {},
   "outputs": [],
   "source": [
    "navegador.find_element(By.XPATH, '//*[@id=\"main\"]/footer/div[1]/div/span[2]/div/div[2]/div[2]/button/span').click()"
   ]
  },
  {
   "cell_type": "code",
   "execution_count": null,
   "metadata": {},
   "outputs": [],
   "source": []
  }
 ],
 "metadata": {
  "kernelspec": {
   "display_name": "Python 3",
   "language": "python",
   "name": "python3"
  },
  "language_info": {
   "codemirror_mode": {
    "name": "ipython",
    "version": 3
   },
   "file_extension": ".py",
   "mimetype": "text/x-python",
   "name": "python",
   "nbconvert_exporter": "python",
   "pygments_lexer": "ipython3",
   "version": "3.11.7"
  }
 },
 "nbformat": 4,
 "nbformat_minor": 2
}
